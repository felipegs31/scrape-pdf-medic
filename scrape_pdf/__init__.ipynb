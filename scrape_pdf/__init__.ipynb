{
 "cells": [
  {
   "cell_type": "code",
   "execution_count": 42,
   "metadata": {},
   "outputs": [],
   "source": [
    "import fitz  # PyMuPDF\n",
    "import re\n",
    "import json"
   ]
  },
  {
   "cell_type": "code",
   "execution_count": 43,
   "metadata": {},
   "outputs": [],
   "source": [
    "def extract_questions_and_options(text):\n",
    "    questions = []\n",
    "\n",
    "    # Padrão para corresponder às perguntas e suas opções\n",
    "    pattern = r\"(QUESTÃO \\d+\\..+?)(?=\\nQUESTÃO \\d+\\.|\\Z)\"\n",
    "    matches = re.finditer(pattern, text, re.DOTALL)\n",
    "\n",
    "    for match in matches:\n",
    "        question_block = match.group(1)\n",
    "\n",
    "        # Separar a pergunta das opções\n",
    "        question_parts = re.split(r\"\\n(?=[A-D]\\.)\", question_block)\n",
    "        question_text = question_parts[0].replace('\\n', ' ')  # Substituir quebras de linha por espaço\n",
    "        options = question_parts[1:]\n",
    "\n",
    "        # Estruturando a pergunta e opções\n",
    "        question_dict = {\n",
    "            \"question\": question_text.strip(),\n",
    "            \"options\": [opt.strip() for opt in options]\n",
    "        }\n",
    "        questions.append(question_dict)\n",
    "\n",
    "    return questions"
   ]
  },
  {
   "cell_type": "code",
   "execution_count": 44,
   "metadata": {},
   "outputs": [],
   "source": [
    "# Função para limpar e corrigir o texto extraído\n",
    "def clean_text(text):\n",
    "    # Substituir caracteres problemáticos\n",
    "    text = text.replace('', 'fi')\n",
    "    text = text.replace('×', 'x')\n",
    "\n",
    "    # Adicione aqui outras substituições conforme necessário\n",
    "\n",
    "    return text"
   ]
  },
  {
   "cell_type": "code",
   "execution_count": 45,
   "metadata": {},
   "outputs": [],
   "source": [
    "def main(pdf_file_path):\n",
    "    # Abrir o arquivo PDF\n",
    "    doc = fitz.open(pdf_file_path)\n",
    "\n",
    "    # Extrair e limpar texto de cada página\n",
    "    cleaned_text = []\n",
    "    for page in doc:\n",
    "        page_text = page.get_text()\n",
    "        # Limpar e corrigir o texto da página\n",
    "        cleaned_page_text = clean_text(page_text)\n",
    "        # Usar expressão regular para remover o rodapé\n",
    "        footer_pattern = r\"Medway - EINSTEIN - SP - 2023\"\n",
    "        footer_pattern2 = r\"Páginas \\d{1,2}/36\"\n",
    "        cleaned_page_text_1 = re.sub(footer_pattern, '', cleaned_page_text)\n",
    "        cleaned_page_text_2 = re.sub(footer_pattern2, '', cleaned_page_text_1)\n",
    "        cleaned_text.append(cleaned_page_text_2)\n",
    "\n",
    "    # Fechar o documento\n",
    "    doc.close()\n",
    "\n",
    "    # Concatenar todas as linhas limpas em uma única string para processamento\n",
    "    cleaned_text_combined = '\\n'.join(cleaned_text)\n",
    "\n",
    "    # Extrair perguntas e suas opções\n",
    "    extracted_questions = extract_questions_and_options(cleaned_text_combined)\n",
    "\n",
    "    # Converter a lista de perguntas e opções em formato JSON\n",
    "    extracted_questions_json = json.dumps(extracted_questions, indent=2, ensure_ascii=False)\n",
    "\n",
    "    # Salvar o JSON em um arquivo\n",
    "    with open('output.json', 'w', encoding='utf-8') as f:\n",
    "        f.write(extracted_questions_json)\n"
   ]
  },
  {
   "cell_type": "code",
   "execution_count": 46,
   "metadata": {},
   "outputs": [
    {
     "name": "stdout",
     "output_type": "stream",
     "text": [
      "None\n"
     ]
    }
   ],
   "source": [
    "pdf_file_path = './../pdfs/EINSTEIN 2023 - Objetiva.pdf'\n",
    "result = main(pdf_file_path)\n",
    "print(result)"
   ]
  },
  {
   "cell_type": "code",
   "execution_count": null,
   "metadata": {},
   "outputs": [],
   "source": []
  },
  {
   "cell_type": "code",
   "execution_count": null,
   "metadata": {},
   "outputs": [],
   "source": []
  }
 ],
 "metadata": {
  "kernelspec": {
   "display_name": ".venv",
   "language": "python",
   "name": "python3"
  },
  "language_info": {
   "codemirror_mode": {
    "name": "ipython",
    "version": 3
   },
   "file_extension": ".py",
   "mimetype": "text/x-python",
   "name": "python",
   "nbconvert_exporter": "python",
   "pygments_lexer": "ipython3",
   "version": "3.11.5"
  }
 },
 "nbformat": 4,
 "nbformat_minor": 2
}
